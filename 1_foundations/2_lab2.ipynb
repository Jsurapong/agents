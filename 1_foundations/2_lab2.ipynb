{
 "cells": [
  {
   "cell_type": "markdown",
   "metadata": {},
   "source": [
    "## Welcome to the Second Lab - Week 1, Day 3\n",
    "\n",
    "Today we will work with lots of models! This is a way to get comfortable with APIs."
   ]
  },
  {
   "cell_type": "markdown",
   "metadata": {},
   "source": [
    "<table style=\"margin: 0; text-align: left; width:100%\">\n",
    "    <tr>\n",
    "        <td style=\"width: 150px; height: 150px; vertical-align: middle;\">\n",
    "            <img src=\"../assets/stop.png\" width=\"150\" height=\"150\" style=\"display: block;\" />\n",
    "        </td>\n",
    "        <td>\n",
    "            <h2 style=\"color:#ff7800;\">Important point - please read</h2>\n",
    "            <span style=\"color:#ff7800;\">The way I collaborate with you may be different to other courses you've taken. I prefer not to type code while you watch. Rather, I execute Jupyter Labs, like this, and give you an intuition for what's going on. My suggestion is that you carefully execute this yourself, <b>after</b> watching the lecture. Add print statements to understand what's going on, and then come up with your own variations.<br/><br/>If you have time, I'd love it if you submit a PR for changes in the community_contributions folder - instructions in the resources. Also, if you have a Github account, use this to showcase your variations. Not only is this essential practice, but it demonstrates your skills to others, including perhaps future clients or employers...\n",
    "            </span>\n",
    "        </td>\n",
    "    </tr>\n",
    "</table>"
   ]
  },
  {
   "cell_type": "code",
   "execution_count": 64,
   "metadata": {},
   "outputs": [],
   "source": [
    "# Start with imports - ask ChatGPT to explain any package that you don't know\n",
    "\n",
    "import os\n",
    "import json\n",
    "from dotenv import load_dotenv\n",
    "from openai import OpenAI\n",
    "from anthropic import Anthropic\n",
    "from IPython.display import Markdown, display"
   ]
  },
  {
   "cell_type": "code",
   "execution_count": 65,
   "metadata": {},
   "outputs": [
    {
     "data": {
      "text/plain": [
       "True"
      ]
     },
     "execution_count": 65,
     "metadata": {},
     "output_type": "execute_result"
    }
   ],
   "source": [
    "# Always remember to do this!\n",
    "load_dotenv(override=True)"
   ]
  },
  {
   "cell_type": "code",
   "execution_count": 66,
   "metadata": {},
   "outputs": [
    {
     "name": "stdout",
     "output_type": "stream",
     "text": [
      "OpenAI API Key exists and begins sk-proj-\n",
      "Anthropic API Key not set (and this is optional)\n",
      "Google API Key exists and begins AI\n",
      "DeepSeek API Key not set (and this is optional)\n",
      "Groq API Key not set (and this is optional)\n"
     ]
    }
   ],
   "source": [
    "# Print the key prefixes to help with any debugging\n",
    "\n",
    "openai_api_key = os.getenv('OPENAI_API_KEY')\n",
    "anthropic_api_key = os.getenv('ANTHROPIC_API_KEY')\n",
    "google_api_key = os.getenv('GOOGLE_API_KEY')\n",
    "deepseek_api_key = os.getenv('DEEPSEEK_API_KEY')\n",
    "groq_api_key = os.getenv('GROQ_API_KEY')\n",
    "\n",
    "if openai_api_key:\n",
    "    print(f\"OpenAI API Key exists and begins {openai_api_key[:8]}\")\n",
    "else:\n",
    "    print(\"OpenAI API Key not set\")\n",
    "    \n",
    "if anthropic_api_key:\n",
    "    print(f\"Anthropic API Key exists and begins {anthropic_api_key[:7]}\")\n",
    "else:\n",
    "    print(\"Anthropic API Key not set (and this is optional)\")\n",
    "\n",
    "if google_api_key:\n",
    "    print(f\"Google API Key exists and begins {google_api_key[:2]}\")\n",
    "else:\n",
    "    print(\"Google API Key not set (and this is optional)\")\n",
    "\n",
    "if deepseek_api_key:\n",
    "    print(f\"DeepSeek API Key exists and begins {deepseek_api_key[:3]}\")\n",
    "else:\n",
    "    print(\"DeepSeek API Key not set (and this is optional)\")\n",
    "\n",
    "if groq_api_key:\n",
    "    print(f\"Groq API Key exists and begins {groq_api_key[:4]}\")\n",
    "else:\n",
    "    print(\"Groq API Key not set (and this is optional)\")"
   ]
  },
  {
   "cell_type": "code",
   "execution_count": 42,
   "metadata": {},
   "outputs": [],
   "source": [
    "request = \"Please come up with a challenging, nuanced question that I can ask a number of LLMs to evaluate their intelligence. \"\n",
    "request += \"Answer only with the question, no explanation.\"\n",
    "messages = [{\"role\": \"user\", \"content\": request}]"
   ]
  },
  {
   "cell_type": "code",
   "execution_count": 43,
   "metadata": {},
   "outputs": [
    {
     "data": {
      "text/plain": [
       "[{'role': 'user',\n",
       "  'content': 'Please come up with a challenging, nuanced question that I can ask a number of LLMs to evaluate their intelligence. Answer only with the question, no explanation.'}]"
      ]
     },
     "execution_count": 43,
     "metadata": {},
     "output_type": "execute_result"
    }
   ],
   "source": [
    "messages"
   ]
  },
  {
   "cell_type": "code",
   "execution_count": 44,
   "metadata": {},
   "outputs": [
    {
     "name": "stdout",
     "output_type": "stream",
     "text": [
      "If you could redesign the education system from scratch to better prepare future generations for the complexities of a rapidly changing world, what core principles and methodologies would you prioritize, and how would you address the diverse needs of students across different socio-economic backgrounds?\n"
     ]
    }
   ],
   "source": [
    "openai = OpenAI()\n",
    "response = openai.chat.completions.create(\n",
    "    model=\"gpt-4o-mini\",\n",
    "    messages=messages,\n",
    ")\n",
    "question = response.choices[0].message.content\n",
    "print(question)\n"
   ]
  },
  {
   "cell_type": "code",
   "execution_count": 45,
   "metadata": {},
   "outputs": [],
   "source": [
    "competitors = []\n",
    "answers = []\n",
    "messages = [{\"role\": \"user\", \"content\": question}]"
   ]
  },
  {
   "cell_type": "code",
   "execution_count": 46,
   "metadata": {},
   "outputs": [
    {
     "data": {
      "text/markdown": [
       "Redesigning the education system to effectively prepare future generations for a rapidly changing world requires a multifaceted approach rooted in core principles and methodologies that prioritize critical thinking, adaptability, and inclusivity. Here are some core principles and methodologies, along with strategies to address diverse student needs:\n",
       "\n",
       "### Core Principles\n",
       "\n",
       "1. **Holistic Development**: Education should foster not only academic skills but also emotional, social, and physical development. This would create well-rounded individuals ready to navigate life's complexities.\n",
       "\n",
       "2. **Lifelong Learning**: Cultivate a mindset of continuous learning. Emphasize skills like adaptability, curiosity, and resilience to prepare students for a dynamic job market.\n",
       "\n",
       "3. **Equity and Inclusivity**: Ensure that all students, regardless of socio-economic background or learning ability, have equitable access to resources, opportunities, and support.\n",
       "\n",
       "4. **Real-World Relevance**: Connect learning to real-world problems and experiences. Curriculum should be project-based and thematic, allowing students to engage with issues that matter to them and their communities.\n",
       "\n",
       "5. **Personalization**: Recognize and accommodate individual learning styles and paces. Use technology and adaptive learning platforms to provide personalized pathways for students.\n",
       "\n",
       "### Methodologies\n",
       "\n",
       "1. **Interdisciplinary Learning**: Break down traditional subject silos and design programs that combine disciplines (e.g., science and art) to promote critical thinking and creativity.\n",
       "\n",
       "2. **Project-Based Learning (PBL)**: Encourage students to engage in PBL, where they work on projects that solve real-world problems. This method promotes collaboration, critical thinking, and application of knowledge.\n",
       "\n",
       "3. **Experiential Learning**: Integrate internships, apprenticeships, and service learning into the curriculum to provide hands-on experiences and exposure to different career paths.\n",
       "\n",
       "4. **Technology Integration**: Leverage technology to enhance learning experiences, using tools for collaborative work, access to information, and even virtual and augmented reality for immersive learning experiences.\n",
       "\n",
       "5. **Mindfulness and Social-Emotional Learning (SEL)**: Incorporate SEL programs to teach students about emotional intelligence, empathy, and teamwork, which are essential skills in the modern world.\n",
       "\n",
       "### Addressing Diverse Needs\n",
       "\n",
       "1. **Universal Design for Learning (UDL)**: Implement UDL principles to accommodate all learners by providing multiple means of engagement, representation, and action/expression, ensuring access for diverse learning needs.\n",
       "\n",
       "2. **Community Partnerships**: Collaborate with local businesses, nonprofits, and community organizations to provide resources, mentorship, and real-world learning opportunities, particularly for underserved communities.\n",
       "\n",
       "3. **Flexible Learning Environments**: Create adaptable learning environments that can be tailored to student needs—this includes alternative schooling options such as online education, community-based learning, and evening or weekend programs.\n",
       "\n",
       "4. **Mentorship Programs**: Establish mentorship initiatives pairing students with professionals and community leaders to inspire and guide them through their educational journeys.\n",
       "\n",
       "5. **Culturally Relevant Curriculum**: Design curriculum that reflects and respects the diverse backgrounds of the student population, integrating multiple perspectives and cultural histories.\n",
       "\n",
       "6. **Financial Support and Resources**: Provide financial assistance for low-income families, including subsidized meals, transportation, and textbooks. Enhance access to technology and internet for remote learning.\n",
       "\n",
       "7. **Parental and Community Engagement**: Foster strong partnerships with families and communities to involve them in the educational process, reinforcing the importance of education and supporting student learning at home.\n",
       "\n",
       "By focusing on these principles and methodologies, the redesigned education system can cultivate a generation of learners who are adaptable, empathetic, and equipped to tackle the challenges of a rapidly changing world."
      ],
      "text/plain": [
       "<IPython.core.display.Markdown object>"
      ]
     },
     "metadata": {},
     "output_type": "display_data"
    }
   ],
   "source": [
    "# The API we know well\n",
    "\n",
    "model_name = \"gpt-4o-mini\"\n",
    "\n",
    "response = openai.chat.completions.create(model=model_name, messages=messages)\n",
    "answer = response.choices[0].message.content\n",
    "\n",
    "display(Markdown(answer))\n",
    "competitors.append(model_name)\n",
    "answers.append(answer)"
   ]
  },
  {
   "cell_type": "code",
   "execution_count": null,
   "metadata": {},
   "outputs": [],
   "source": [
    "# Anthropic has a slightly different API, and Max Tokens is required\n",
    "\n",
    "model_name = \"claude-3-7-sonnet-latest\"\n",
    "\n",
    "claude = Anthropic()\n",
    "response = claude.messages.create(model=model_name, messages=messages, max_tokens=1000)\n",
    "answer = response.content[0].text\n",
    "\n",
    "display(Markdown(answer))\n",
    "competitors.append(model_name)\n",
    "answers.append(answer)"
   ]
  },
  {
   "cell_type": "code",
   "execution_count": 67,
   "metadata": {},
   "outputs": [
    {
     "data": {
      "text/markdown": [
       "Okay, if I could redesign the education system from scratch, my guiding principle would be **empowering individuals to become lifelong learners and adaptive problem-solvers equipped to contribute meaningfully to a rapidly changing world.**  This requires a radical shift from rote memorization and standardized testing towards personalized learning, critical thinking, and holistic development.\n",
       "\n",
       "Here's a breakdown of the core principles, methodologies, and strategies for addressing diverse needs:\n",
       "\n",
       "**I. Core Principles:**\n",
       "\n",
       "*   **Learner-Centered & Personalized:**  The student is the central focus.  The curriculum and learning pathways adapt to individual learning styles, paces, interests, and strengths. We recognize that \"one size fits all\" is detrimental.\n",
       "*   **Relevance & Real-World Application:**  Connect learning to real-world problems, projects, and challenges.  Focus on developing skills that are directly transferable to various contexts and future careers.\n",
       "*   **Inquiry-Based Learning & Critical Thinking:**  Foster curiosity, questioning, and the ability to analyze information critically, evaluate arguments, and formulate evidence-based solutions.\n",
       "*   **Collaboration & Communication:**  Emphasize teamwork, effective communication (oral, written, and digital), active listening, and empathy to build strong interpersonal skills.\n",
       "*   **Creativity & Innovation:**  Cultivate imagination, experimentation, and the ability to think outside the box to generate new ideas and solutions.\n",
       "*   **Digital Literacy & Technological Fluency:**  Equip students with the skills to navigate, evaluate, and utilize technology effectively and ethically in all aspects of life.\n",
       "*   **Emotional Intelligence & Well-being:**  Promote self-awareness, self-regulation, empathy, social skills, and a growth mindset to foster resilience and overall well-being.\n",
       "*   **Ethical & Civic Responsibility:**  Instill a sense of responsibility, citizenship, and commitment to social justice, environmental sustainability, and ethical decision-making.\n",
       "*   **Lifelong Learning Mindset:**  Instill a love of learning and the skills to continue learning and adapting throughout life, including resourcefulness in finding and evaluating information.\n",
       "\n",
       "**II. Methodologies:**\n",
       "\n",
       "*   **Project-Based Learning (PBL):**  Students learn by working on extended, real-world projects that require them to apply knowledge and skills from multiple disciplines.\n",
       "*   **Inquiry-Based Learning:**  Students drive their own learning through questions, investigations, and research.\n",
       "*   **Design Thinking:**  A human-centered problem-solving approach that emphasizes empathy, ideation, prototyping, and testing.\n",
       "*   **Blended Learning:**  Combines online and in-person instruction to provide flexibility and personalized learning experiences.\n",
       "*   **Adaptive Learning Technologies:**  Utilizes AI and other technologies to personalize learning pathways and provide individualized feedback.\n",
       "*   **Mentorship & Apprenticeships:**  Connect students with mentors and apprenticeship opportunities to gain real-world experience and guidance.\n",
       "*   **Experiential Learning:**  Hands-on learning through simulations, field trips, internships, and community service.\n",
       "*   **Gamification:**  Incorporates game-like elements to increase engagement and motivation.\n",
       "*   **Mindfulness and Social-Emotional Learning (SEL) Programs:**  Integrates practices that promote self-awareness, self-regulation, empathy, and social skills.\n",
       "*   **Interdisciplinary Curriculum:** Breaking down traditional subject silos and integrating concepts across disciplines to create a more holistic understanding.\n",
       "*   **Portfolio-Based Assessment:** Students demonstrate their learning through a collection of work that showcases their skills and accomplishments, rather than relying solely on standardized tests.\n",
       "\n",
       "**III. Addressing Diverse Needs:**\n",
       "\n",
       "This is crucial for equity and ensuring all students thrive.\n",
       "\n",
       "*   **Early Childhood Education (Universal Access):**  Provide high-quality, publicly funded early childhood education for all children, starting as early as possible.  This is a critical foundation for future success and helps close achievement gaps.\n",
       "*   **Personalized Learning Plans (PLPs):**  Develop individualized learning plans for each student, taking into account their strengths, weaknesses, learning styles, interests, and cultural backgrounds.\n",
       "*   **Differentiated Instruction:**  Adapt teaching methods, materials, and assessments to meet the diverse needs of learners in the classroom.\n",
       "*   **Culturally Responsive Teaching:**  Integrate students' cultural backgrounds and experiences into the curriculum and teaching practices.  This involves understanding and valuing diverse perspectives and experiences.\n",
       "*   **Assistive Technology:**  Provide access to assistive technologies for students with disabilities to help them overcome learning barriers.\n",
       "*   **Bilingual Education & Multilingual Support:**  Support students who are learning English as a second language and provide opportunities for all students to develop multilingual skills.\n",
       "*   **Social-Emotional Support Services:**  Provide access to counseling, mental health services, and other support services to address students' social and emotional needs.\n",
       "*   **Community Partnerships:**  Establish partnerships with local organizations and businesses to provide students with access to resources, mentors, and real-world learning opportunities.\n",
       "*   **Financial Aid & Scholarships:**  Provide ample financial aid and scholarship opportunities to ensure that all students, regardless of their socio-economic background, can afford to attend post-secondary education.\n",
       "*   **Nutrition & Health Services:** Provide access to healthy meals and healthcare services to ensure that students are physically and mentally ready to learn. Many lower income students may not have access to proper nutrition which can impair learning.\n",
       "*   **Parent & Family Engagement:**  Actively involve parents and families in the education process through workshops, communication, and volunteer opportunities.\n",
       "*   **Teacher Training & Professional Development:** Invest in ongoing professional development for teachers to equip them with the skills and knowledge to implement personalized learning, differentiated instruction, and culturally responsive teaching practices.\n",
       "*   **Addressing Systemic Inequalities:**  Actively work to address systemic inequalities in the education system, such as school funding disparities and biased curriculum.\n",
       "\n",
       "**IV. Assessment:**\n",
       "\n",
       "*   **Formative Assessment:** Continuous monitoring of student learning through quizzes, observations, and feedback to adjust instruction.\n",
       "*   **Summative Assessment:** Portfolio-based assessments that demonstrate mastery of skills and knowledge through real-world projects and problem-solving.  Reduced reliance on standardized testing.\n",
       "*   **360-Degree Feedback:** Incorporate feedback from students, teachers, parents, and community members to get a holistic view of student progress.\n",
       "*   **Emphasis on Growth & Mastery:**  Focus on measuring student growth and mastery of skills, rather than simply comparing them to their peers.\n",
       "\n",
       "**V. Structure & Organization:**\n",
       "\n",
       "*   **Flexible Learning Environments:**  Create flexible learning spaces that can be easily reconfigured to support different learning activities.\n",
       "*   **Smaller Class Sizes:**  Reduce class sizes to allow for more individualized attention and support.\n",
       "*   **Extended Learning Time:**  Provide extended learning time through after-school programs, summer programs, and year-round schooling.\n",
       "*   **Decentralized Decision-Making:**  Empower schools and teachers to make decisions that are best for their students and communities.\n",
       "*   **Continuous Improvement:**  Establish a system for continuous improvement that uses data to inform decision-making and track progress.\n",
       "\n",
       "**VI. Technology:**\n",
       "\n",
       "*   **Equitable Access:** Ensure all students have access to technology, regardless of their socio-economic background.\n",
       "*   **Digital Literacy Training:**  Provide students with comprehensive digital literacy training to help them navigate the digital world safely and effectively.\n",
       "*   **Personalized Learning Platforms:**  Utilize personalized learning platforms to tailor learning experiences to individual student needs.\n",
       "*   **Data-Driven Decision Making:**  Use data analytics to track student progress and identify areas for improvement.\n",
       "*   **Focus on Creation over Consumption:**  Encourage students to use technology to create, innovate, and solve problems, rather than just consuming content.\n",
       "\n",
       "**VII. Teacher Empowerment:**\n",
       "\n",
       "*   **Respect and Trust:** Treat teachers as professionals and empower them to make decisions about their classrooms.\n",
       "*   **Ongoing Professional Development:**  Provide high-quality, ongoing professional development to help teachers stay up-to-date on the latest research and best practices.\n",
       "*   **Collaboration and Support:**  Create opportunities for teachers to collaborate with each other and receive support from mentors and coaches.\n",
       "*   **Fair Compensation:**  Pay teachers a competitive salary that reflects their value to society.\n",
       "*   **Reduced Administrative Burden:**  Reduce the administrative burden on teachers so they can focus on teaching.\n",
       "\n",
       "**Addressing Funding Disparities:**\n",
       "\n",
       "A significant challenge is addressing the vast disparities in funding between schools in wealthy and poor communities.  My vision includes:\n",
       "\n",
       "*   **Equitable Funding Formula:**  Implement a funding formula that allocates resources based on student needs, rather than property taxes.  This would ensure that schools in low-income communities receive the resources they need to provide a high-quality education.\n",
       "*   **Increased Federal Funding:**  Increase federal funding for education, particularly for schools in low-income communities.\n",
       "*   **Targeted Investments:**  Invest in programs and initiatives that specifically address the needs of students in low-income communities, such as early childhood education, tutoring, and mentoring.\n",
       "*   **Community Schools:**  Transform schools into community hubs that provide a range of services to students and families, such as healthcare, social services, and job training.\n",
       "\n",
       "This is an ambitious vision, but I believe that by focusing on these core principles and methodologies, we can create an education system that truly prepares all students for success in the 21st century and beyond.  It requires a commitment to equity, innovation, and continuous improvement, but the potential benefits for individuals, communities, and society as a whole are immense.\n"
      ],
      "text/plain": [
       "<IPython.core.display.Markdown object>"
      ]
     },
     "metadata": {},
     "output_type": "display_data"
    }
   ],
   "source": [
    "gemini = OpenAI(api_key=google_api_key, base_url=\"https://generativelanguage.googleapis.com/v1beta/openai/\")\n",
    "model_name = \"gemini-2.0-flash\"\n",
    "\n",
    "response = gemini.chat.completions.create(model=model_name, messages=messages)\n",
    "answer = response.choices[0].message.content\n",
    "\n",
    "display(Markdown(answer))\n",
    "competitors.append(model_name)\n",
    "answers.append(answer)"
   ]
  },
  {
   "cell_type": "code",
   "execution_count": null,
   "metadata": {},
   "outputs": [],
   "source": [
    "deepseek = OpenAI(api_key=deepseek_api_key, base_url=\"https://api.deepseek.com/v1\")\n",
    "model_name = \"deepseek-chat\"\n",
    "\n",
    "response = deepseek.chat.completions.create(model=model_name, messages=messages)\n",
    "answer = response.choices[0].message.content\n",
    "\n",
    "display(Markdown(answer))\n",
    "competitors.append(model_name)\n",
    "answers.append(answer)"
   ]
  },
  {
   "cell_type": "code",
   "execution_count": null,
   "metadata": {},
   "outputs": [],
   "source": [
    "groq = OpenAI(api_key=groq_api_key, base_url=\"https://api.groq.com/openai/v1\")\n",
    "model_name = \"llama-3.3-70b-versatile\"\n",
    "\n",
    "response = groq.chat.completions.create(model=model_name, messages=messages)\n",
    "answer = response.choices[0].message.content\n",
    "\n",
    "display(Markdown(answer))\n",
    "competitors.append(model_name)\n",
    "answers.append(answer)\n"
   ]
  },
  {
   "cell_type": "markdown",
   "metadata": {},
   "source": [
    "## For the next cell, we will use Ollama\n",
    "\n",
    "Ollama runs a local web service that gives an OpenAI compatible endpoint,  \n",
    "and runs models locally using high performance C++ code.\n",
    "\n",
    "If you don't have Ollama, install it here by visiting https://ollama.com then pressing Download and following the instructions.\n",
    "\n",
    "After it's installed, you should be able to visit here: http://localhost:11434 and see the message \"Ollama is running\"\n",
    "\n",
    "You might need to restart Cursor (and maybe reboot). Then open a Terminal (control+\\`) and run `ollama serve`\n",
    "\n",
    "Useful Ollama commands (run these in the terminal, or with an exclamation mark in this notebook):\n",
    "\n",
    "`ollama pull <model_name>` downloads a model locally  \n",
    "`ollama ls` lists all the models you've downloaded  \n",
    "`ollama rm <model_name>` deletes the specified model from your downloads"
   ]
  },
  {
   "cell_type": "markdown",
   "metadata": {},
   "source": [
    "<table style=\"margin: 0; text-align: left; width:100%\">\n",
    "    <tr>\n",
    "        <td style=\"width: 150px; height: 150px; vertical-align: middle;\">\n",
    "            <img src=\"../assets/stop.png\" width=\"150\" height=\"150\" style=\"display: block;\" />\n",
    "        </td>\n",
    "        <td>\n",
    "            <h2 style=\"color:#ff7800;\">Super important - ignore me at your peril!</h2>\n",
    "            <span style=\"color:#ff7800;\">The model called <b>llama3.3</b> is FAR too large for home computers - it's not intended for personal computing and will consume all your resources! Stick with the nicely sized <b>llama3.2</b> or <b>llama3.2:1b</b> and if you want larger, try llama3.1 or smaller variants of Qwen, Gemma, Phi or DeepSeek. See the <A href=\"https://ollama.com/models\">the Ollama models page</a> for a full list of models and sizes.\n",
    "            </span>\n",
    "        </td>\n",
    "    </tr>\n",
    "</table>"
   ]
  },
  {
   "cell_type": "code",
   "execution_count": 18,
   "metadata": {},
   "outputs": [
    {
     "name": "stdout",
     "output_type": "stream",
     "text": [
      "NAME              ID              SIZE      MODIFIED       \n",
      "gemma3:4b         a2af6cc3eb7f    3.3 GB    2 minutes ago     \n",
      "qwen3:4b          e55aed6fe643    2.5 GB    16 minutes ago    \n",
      "gpt-oss:20b       aa4295ac10c3    13 GB     2 hours ago       \n",
      "gemma3:1b         8648f39daa8f    815 MB    2 weeks ago       \n",
      "deepseek-r1:8b    6995872bfe4c    5.2 GB    6 weeks ago       \n"
     ]
    }
   ],
   "source": [
    "# !ollama pull gemma3:4b\n",
    "!ollama ls"
   ]
  },
  {
   "cell_type": "code",
   "execution_count": 47,
   "metadata": {},
   "outputs": [
    {
     "data": {
      "text/markdown": [
       "Okay, this is a massive thought experiment I’m thrilled to tackle! Redesigning education from the ground up is a complex challenge, but here's a framework based on what I believe are truly crucial for a future-ready generation, emphasizing equity and adaptability:\n",
       "\n",
       "**I. Core Principles – The Foundation:**\n",
       "\n",
       "1. **Learner Agency & Personalized Pathways:** The biggest shift. We move away from a one-size-fits-all model. Students need genuine agency in their learning - choice, voice, and ownership. This doesn't mean complete freedom, but a genuine opportunity to shape their learning journey.\n",
       "2. **Skills-Based Learning over Content-Driven:** While foundational knowledge is important, the focus shifts to *applying* knowledge and developing transferable skills. We prioritize critical thinking, problem-solving, creativity, communication, collaboration, digital literacy, and adaptability.  Content is curated and integrated to support these skills.\n",
       "3. **Interdisciplinary & Project-Based Learning:** Breaking down traditional subject silos. Learning happens through integrated projects that connect different disciplines. Students tackle real-world challenges and see the relevance of what they're learning.\n",
       "4. **Growth Mindset & Resilience:** Cultivating a belief that intelligence and abilities can be developed through effort, learning from mistakes, and perseverance. We need to teach students how to embrace challenges and bounce back from setbacks.\n",
       "5. **Ethical Reasoning & Global Citizenship:** Instilling a strong moral compass, encouraging empathy, and fostering an understanding of global interconnectedness, sustainability, and social justice.\n",
       "\n",
       "\n",
       "**II. Methodologies – How It Works in Practice:**\n",
       "\n",
       "1. **Modular Learning Units:** Instead of textbook-based years, we’d utilize short, focused “modules” that can be completed at a student’s pace. These modules would be built around challenging questions and real-world contexts.\n",
       "2. **Learning Hubs:** Replacing traditional schools with smaller, more flexible “learning hubs.” These hubs would be community-based, integrating elements of traditional schooling with access to experts, mentors, and local resources. \n",
       "3. **Mentorship & Coaching:** Every student would have access to a dedicated mentor/coach who helps them navigate their learning journey, identify their interests, and develop their skills.\n",
       "4. **Digital Literacy & Technology Integration - Responsibly:** Technology is a tool, not the goal. Focus on responsible use, digital creation, data analysis, and understanding the ethical implications of technology.\n",
       "5. **Assessment for Learning:** Moving away from high-stakes standardized tests. Emphasis on formative assessment – ongoing feedback, self-reflection, peer assessment, and portfolios that showcase a student’s skills and knowledge.\n",
       "\n",
       "\n",
       "**III. Addressing Diverse Needs - Equity is Paramount:**\n",
       "\n",
       "This is where the redesign truly becomes transformative.\n",
       "\n",
       "1. **Universal Basic Resources:** Guaranteeing access to essential resources – technology, internet access, learning materials, and support services – for *all* students, regardless of their socioeconomic background. This is the foundation for equitable access.\n",
       "2. **Community-Based Learning:**  Learning hubs would be strategically located within communities, drawing on local expertise, cultural resources, and career opportunities.\n",
       "3. **Personalized Support Systems:** Robust support systems including:\n",
       "    * **Early Intervention:**  Addressing learning gaps and challenges early on.\n",
       "    * **Social-Emotional Support:** Prioritizing mental health and well-being services.\n",
       "    * **Family Engagement:** Creating pathways for meaningful family involvement in the learning process.\n",
       "4. **Tiered Support Programs:** Recognizing that students have different needs. Offering targeted intervention, advanced learning opportunities, and specialized programs based on individual needs.\n",
       "5. **Equitable Resource Allocation:**  Actively addressing systemic inequalities in funding and resources across different schools and districts.\n",
       "\n",
       "**IV. Ongoing Adaptation & Innovation:**\n",
       "\n",
       "* **Continuous Feedback Loops:** Regularly collecting feedback from students, teachers, and community members.\n",
       "* **Research & Development:** Investing in research on effective learning practices and emerging technologies.\n",
       "* **Networked Learning:** Connecting students and educators across the globe to foster collaboration and knowledge sharing.\n",
       "\n",
       "\n",
       "\n",
       "**Important Note:** This isn’t a perfect blueprint, but a starting point. It requires a massive cultural shift – from valuing conformity to embracing diversity, from testing to learning, and from competition to collaboration.  It’s a long-term investment in our future.\n",
       "\n",
       "---\n",
       "\n",
       "Would you like me to delve deeper into any specific aspect of this redesign, such as:\n",
       "\n",
       "*   The role of technology?\n",
       "*   A particular methodology (e.g., Montessori, Waldorf)?\n",
       "*   The funding model?"
      ],
      "text/plain": [
       "<IPython.core.display.Markdown object>"
      ]
     },
     "metadata": {},
     "output_type": "display_data"
    }
   ],
   "source": [
    "ollama = OpenAI(base_url='http://localhost:11434/v1', api_key='ollama')\n",
    "model_name = \"gemma3:4b\"\n",
    "\n",
    "\n",
    "response = ollama.chat.completions.create(model=model_name, messages=messages)\n",
    "answer = response.choices[0].message.content\n",
    "\n",
    "display(Markdown(answer))\n",
    "competitors.append(model_name)\n",
    "answers.append(answer)"
   ]
  },
  {
   "cell_type": "code",
   "execution_count": 48,
   "metadata": {},
   "outputs": [
    {
     "name": "stdout",
     "output_type": "stream",
     "text": [
      "['gpt-4o-mini', 'gemma3:4b']\n",
      "[\"Redesigning the education system to effectively prepare future generations for a rapidly changing world requires a multifaceted approach rooted in core principles and methodologies that prioritize critical thinking, adaptability, and inclusivity. Here are some core principles and methodologies, along with strategies to address diverse student needs:\\n\\n### Core Principles\\n\\n1. **Holistic Development**: Education should foster not only academic skills but also emotional, social, and physical development. This would create well-rounded individuals ready to navigate life's complexities.\\n\\n2. **Lifelong Learning**: Cultivate a mindset of continuous learning. Emphasize skills like adaptability, curiosity, and resilience to prepare students for a dynamic job market.\\n\\n3. **Equity and Inclusivity**: Ensure that all students, regardless of socio-economic background or learning ability, have equitable access to resources, opportunities, and support.\\n\\n4. **Real-World Relevance**: Connect learning to real-world problems and experiences. Curriculum should be project-based and thematic, allowing students to engage with issues that matter to them and their communities.\\n\\n5. **Personalization**: Recognize and accommodate individual learning styles and paces. Use technology and adaptive learning platforms to provide personalized pathways for students.\\n\\n### Methodologies\\n\\n1. **Interdisciplinary Learning**: Break down traditional subject silos and design programs that combine disciplines (e.g., science and art) to promote critical thinking and creativity.\\n\\n2. **Project-Based Learning (PBL)**: Encourage students to engage in PBL, where they work on projects that solve real-world problems. This method promotes collaboration, critical thinking, and application of knowledge.\\n\\n3. **Experiential Learning**: Integrate internships, apprenticeships, and service learning into the curriculum to provide hands-on experiences and exposure to different career paths.\\n\\n4. **Technology Integration**: Leverage technology to enhance learning experiences, using tools for collaborative work, access to information, and even virtual and augmented reality for immersive learning experiences.\\n\\n5. **Mindfulness and Social-Emotional Learning (SEL)**: Incorporate SEL programs to teach students about emotional intelligence, empathy, and teamwork, which are essential skills in the modern world.\\n\\n### Addressing Diverse Needs\\n\\n1. **Universal Design for Learning (UDL)**: Implement UDL principles to accommodate all learners by providing multiple means of engagement, representation, and action/expression, ensuring access for diverse learning needs.\\n\\n2. **Community Partnerships**: Collaborate with local businesses, nonprofits, and community organizations to provide resources, mentorship, and real-world learning opportunities, particularly for underserved communities.\\n\\n3. **Flexible Learning Environments**: Create adaptable learning environments that can be tailored to student needs—this includes alternative schooling options such as online education, community-based learning, and evening or weekend programs.\\n\\n4. **Mentorship Programs**: Establish mentorship initiatives pairing students with professionals and community leaders to inspire and guide them through their educational journeys.\\n\\n5. **Culturally Relevant Curriculum**: Design curriculum that reflects and respects the diverse backgrounds of the student population, integrating multiple perspectives and cultural histories.\\n\\n6. **Financial Support and Resources**: Provide financial assistance for low-income families, including subsidized meals, transportation, and textbooks. Enhance access to technology and internet for remote learning.\\n\\n7. **Parental and Community Engagement**: Foster strong partnerships with families and communities to involve them in the educational process, reinforcing the importance of education and supporting student learning at home.\\n\\nBy focusing on these principles and methodologies, the redesigned education system can cultivate a generation of learners who are adaptable, empathetic, and equipped to tackle the challenges of a rapidly changing world.\", \"Okay, this is a massive thought experiment I’m thrilled to tackle! Redesigning education from the ground up is a complex challenge, but here's a framework based on what I believe are truly crucial for a future-ready generation, emphasizing equity and adaptability:\\n\\n**I. Core Principles – The Foundation:**\\n\\n1. **Learner Agency & Personalized Pathways:** The biggest shift. We move away from a one-size-fits-all model. Students need genuine agency in their learning - choice, voice, and ownership. This doesn't mean complete freedom, but a genuine opportunity to shape their learning journey.\\n2. **Skills-Based Learning over Content-Driven:** While foundational knowledge is important, the focus shifts to *applying* knowledge and developing transferable skills. We prioritize critical thinking, problem-solving, creativity, communication, collaboration, digital literacy, and adaptability.  Content is curated and integrated to support these skills.\\n3. **Interdisciplinary & Project-Based Learning:** Breaking down traditional subject silos. Learning happens through integrated projects that connect different disciplines. Students tackle real-world challenges and see the relevance of what they're learning.\\n4. **Growth Mindset & Resilience:** Cultivating a belief that intelligence and abilities can be developed through effort, learning from mistakes, and perseverance. We need to teach students how to embrace challenges and bounce back from setbacks.\\n5. **Ethical Reasoning & Global Citizenship:** Instilling a strong moral compass, encouraging empathy, and fostering an understanding of global interconnectedness, sustainability, and social justice.\\n\\n\\n**II. Methodologies – How It Works in Practice:**\\n\\n1. **Modular Learning Units:** Instead of textbook-based years, we’d utilize short, focused “modules” that can be completed at a student’s pace. These modules would be built around challenging questions and real-world contexts.\\n2. **Learning Hubs:** Replacing traditional schools with smaller, more flexible “learning hubs.” These hubs would be community-based, integrating elements of traditional schooling with access to experts, mentors, and local resources. \\n3. **Mentorship & Coaching:** Every student would have access to a dedicated mentor/coach who helps them navigate their learning journey, identify their interests, and develop their skills.\\n4. **Digital Literacy & Technology Integration - Responsibly:** Technology is a tool, not the goal. Focus on responsible use, digital creation, data analysis, and understanding the ethical implications of technology.\\n5. **Assessment for Learning:** Moving away from high-stakes standardized tests. Emphasis on formative assessment – ongoing feedback, self-reflection, peer assessment, and portfolios that showcase a student’s skills and knowledge.\\n\\n\\n**III. Addressing Diverse Needs - Equity is Paramount:**\\n\\nThis is where the redesign truly becomes transformative.\\n\\n1. **Universal Basic Resources:** Guaranteeing access to essential resources – technology, internet access, learning materials, and support services – for *all* students, regardless of their socioeconomic background. This is the foundation for equitable access.\\n2. **Community-Based Learning:**  Learning hubs would be strategically located within communities, drawing on local expertise, cultural resources, and career opportunities.\\n3. **Personalized Support Systems:** Robust support systems including:\\n    * **Early Intervention:**  Addressing learning gaps and challenges early on.\\n    * **Social-Emotional Support:** Prioritizing mental health and well-being services.\\n    * **Family Engagement:** Creating pathways for meaningful family involvement in the learning process.\\n4. **Tiered Support Programs:** Recognizing that students have different needs. Offering targeted intervention, advanced learning opportunities, and specialized programs based on individual needs.\\n5. **Equitable Resource Allocation:**  Actively addressing systemic inequalities in funding and resources across different schools and districts.\\n\\n**IV. Ongoing Adaptation & Innovation:**\\n\\n* **Continuous Feedback Loops:** Regularly collecting feedback from students, teachers, and community members.\\n* **Research & Development:** Investing in research on effective learning practices and emerging technologies.\\n* **Networked Learning:** Connecting students and educators across the globe to foster collaboration and knowledge sharing.\\n\\n\\n\\n**Important Note:** This isn’t a perfect blueprint, but a starting point. It requires a massive cultural shift – from valuing conformity to embracing diversity, from testing to learning, and from competition to collaboration.  It’s a long-term investment in our future.\\n\\n---\\n\\nWould you like me to delve deeper into any specific aspect of this redesign, such as:\\n\\n*   The role of technology?\\n*   A particular methodology (e.g., Montessori, Waldorf)?\\n*   The funding model?\"]\n"
     ]
    }
   ],
   "source": [
    "# So where are we?\n",
    "\n",
    "print(competitors)\n",
    "print(answers)\n"
   ]
  },
  {
   "cell_type": "code",
   "execution_count": 50,
   "metadata": {},
   "outputs": [
    {
     "name": "stdout",
     "output_type": "stream",
     "text": [
      "Competitor: gpt-4o-mini\n",
      "\n",
      "Redesigning the education system to effectively prepare future generations for a rapidly changing world requires a multifaceted approach rooted in core principles and methodologies that prioritize critical thinking, adaptability, and inclusivity. Here are some core principles and methodologies, along with strategies to address diverse student needs:\n",
      "\n",
      "### Core Principles\n",
      "\n",
      "1. **Holistic Development**: Education should foster not only academic skills but also emotional, social, and physical development. This would create well-rounded individuals ready to navigate life's complexities.\n",
      "\n",
      "2. **Lifelong Learning**: Cultivate a mindset of continuous learning. Emphasize skills like adaptability, curiosity, and resilience to prepare students for a dynamic job market.\n",
      "\n",
      "3. **Equity and Inclusivity**: Ensure that all students, regardless of socio-economic background or learning ability, have equitable access to resources, opportunities, and support.\n",
      "\n",
      "4. **Real-World Relevance**: Connect learning to real-world problems and experiences. Curriculum should be project-based and thematic, allowing students to engage with issues that matter to them and their communities.\n",
      "\n",
      "5. **Personalization**: Recognize and accommodate individual learning styles and paces. Use technology and adaptive learning platforms to provide personalized pathways for students.\n",
      "\n",
      "### Methodologies\n",
      "\n",
      "1. **Interdisciplinary Learning**: Break down traditional subject silos and design programs that combine disciplines (e.g., science and art) to promote critical thinking and creativity.\n",
      "\n",
      "2. **Project-Based Learning (PBL)**: Encourage students to engage in PBL, where they work on projects that solve real-world problems. This method promotes collaboration, critical thinking, and application of knowledge.\n",
      "\n",
      "3. **Experiential Learning**: Integrate internships, apprenticeships, and service learning into the curriculum to provide hands-on experiences and exposure to different career paths.\n",
      "\n",
      "4. **Technology Integration**: Leverage technology to enhance learning experiences, using tools for collaborative work, access to information, and even virtual and augmented reality for immersive learning experiences.\n",
      "\n",
      "5. **Mindfulness and Social-Emotional Learning (SEL)**: Incorporate SEL programs to teach students about emotional intelligence, empathy, and teamwork, which are essential skills in the modern world.\n",
      "\n",
      "### Addressing Diverse Needs\n",
      "\n",
      "1. **Universal Design for Learning (UDL)**: Implement UDL principles to accommodate all learners by providing multiple means of engagement, representation, and action/expression, ensuring access for diverse learning needs.\n",
      "\n",
      "2. **Community Partnerships**: Collaborate with local businesses, nonprofits, and community organizations to provide resources, mentorship, and real-world learning opportunities, particularly for underserved communities.\n",
      "\n",
      "3. **Flexible Learning Environments**: Create adaptable learning environments that can be tailored to student needs—this includes alternative schooling options such as online education, community-based learning, and evening or weekend programs.\n",
      "\n",
      "4. **Mentorship Programs**: Establish mentorship initiatives pairing students with professionals and community leaders to inspire and guide them through their educational journeys.\n",
      "\n",
      "5. **Culturally Relevant Curriculum**: Design curriculum that reflects and respects the diverse backgrounds of the student population, integrating multiple perspectives and cultural histories.\n",
      "\n",
      "6. **Financial Support and Resources**: Provide financial assistance for low-income families, including subsidized meals, transportation, and textbooks. Enhance access to technology and internet for remote learning.\n",
      "\n",
      "7. **Parental and Community Engagement**: Foster strong partnerships with families and communities to involve them in the educational process, reinforcing the importance of education and supporting student learning at home.\n",
      "\n",
      "By focusing on these principles and methodologies, the redesigned education system can cultivate a generation of learners who are adaptable, empathetic, and equipped to tackle the challenges of a rapidly changing world.\n",
      "Competitor: gemma3:4b\n",
      "\n",
      "Okay, this is a massive thought experiment I’m thrilled to tackle! Redesigning education from the ground up is a complex challenge, but here's a framework based on what I believe are truly crucial for a future-ready generation, emphasizing equity and adaptability:\n",
      "\n",
      "**I. Core Principles – The Foundation:**\n",
      "\n",
      "1. **Learner Agency & Personalized Pathways:** The biggest shift. We move away from a one-size-fits-all model. Students need genuine agency in their learning - choice, voice, and ownership. This doesn't mean complete freedom, but a genuine opportunity to shape their learning journey.\n",
      "2. **Skills-Based Learning over Content-Driven:** While foundational knowledge is important, the focus shifts to *applying* knowledge and developing transferable skills. We prioritize critical thinking, problem-solving, creativity, communication, collaboration, digital literacy, and adaptability.  Content is curated and integrated to support these skills.\n",
      "3. **Interdisciplinary & Project-Based Learning:** Breaking down traditional subject silos. Learning happens through integrated projects that connect different disciplines. Students tackle real-world challenges and see the relevance of what they're learning.\n",
      "4. **Growth Mindset & Resilience:** Cultivating a belief that intelligence and abilities can be developed through effort, learning from mistakes, and perseverance. We need to teach students how to embrace challenges and bounce back from setbacks.\n",
      "5. **Ethical Reasoning & Global Citizenship:** Instilling a strong moral compass, encouraging empathy, and fostering an understanding of global interconnectedness, sustainability, and social justice.\n",
      "\n",
      "\n",
      "**II. Methodologies – How It Works in Practice:**\n",
      "\n",
      "1. **Modular Learning Units:** Instead of textbook-based years, we’d utilize short, focused “modules” that can be completed at a student’s pace. These modules would be built around challenging questions and real-world contexts.\n",
      "2. **Learning Hubs:** Replacing traditional schools with smaller, more flexible “learning hubs.” These hubs would be community-based, integrating elements of traditional schooling with access to experts, mentors, and local resources. \n",
      "3. **Mentorship & Coaching:** Every student would have access to a dedicated mentor/coach who helps them navigate their learning journey, identify their interests, and develop their skills.\n",
      "4. **Digital Literacy & Technology Integration - Responsibly:** Technology is a tool, not the goal. Focus on responsible use, digital creation, data analysis, and understanding the ethical implications of technology.\n",
      "5. **Assessment for Learning:** Moving away from high-stakes standardized tests. Emphasis on formative assessment – ongoing feedback, self-reflection, peer assessment, and portfolios that showcase a student’s skills and knowledge.\n",
      "\n",
      "\n",
      "**III. Addressing Diverse Needs - Equity is Paramount:**\n",
      "\n",
      "This is where the redesign truly becomes transformative.\n",
      "\n",
      "1. **Universal Basic Resources:** Guaranteeing access to essential resources – technology, internet access, learning materials, and support services – for *all* students, regardless of their socioeconomic background. This is the foundation for equitable access.\n",
      "2. **Community-Based Learning:**  Learning hubs would be strategically located within communities, drawing on local expertise, cultural resources, and career opportunities.\n",
      "3. **Personalized Support Systems:** Robust support systems including:\n",
      "    * **Early Intervention:**  Addressing learning gaps and challenges early on.\n",
      "    * **Social-Emotional Support:** Prioritizing mental health and well-being services.\n",
      "    * **Family Engagement:** Creating pathways for meaningful family involvement in the learning process.\n",
      "4. **Tiered Support Programs:** Recognizing that students have different needs. Offering targeted intervention, advanced learning opportunities, and specialized programs based on individual needs.\n",
      "5. **Equitable Resource Allocation:**  Actively addressing systemic inequalities in funding and resources across different schools and districts.\n",
      "\n",
      "**IV. Ongoing Adaptation & Innovation:**\n",
      "\n",
      "* **Continuous Feedback Loops:** Regularly collecting feedback from students, teachers, and community members.\n",
      "* **Research & Development:** Investing in research on effective learning practices and emerging technologies.\n",
      "* **Networked Learning:** Connecting students and educators across the globe to foster collaboration and knowledge sharing.\n",
      "\n",
      "\n",
      "\n",
      "**Important Note:** This isn’t a perfect blueprint, but a starting point. It requires a massive cultural shift – from valuing conformity to embracing diversity, from testing to learning, and from competition to collaboration.  It’s a long-term investment in our future.\n",
      "\n",
      "---\n",
      "\n",
      "Would you like me to delve deeper into any specific aspect of this redesign, such as:\n",
      "\n",
      "*   The role of technology?\n",
      "*   A particular methodology (e.g., Montessori, Waldorf)?\n",
      "*   The funding model?\n"
     ]
    }
   ],
   "source": [
    "# It's nice to know how to use \"zip\"\n",
    "for competitor, answer in zip(competitors, answers):\n",
    "    print(f\"Competitor: {competitor}\\n\\n{answer}\")\n"
   ]
  },
  {
   "cell_type": "code",
   "execution_count": 51,
   "metadata": {},
   "outputs": [],
   "source": [
    "# Let's bring this together - note the use of \"enumerate\"\n",
    "\n",
    "together = \"\"\n",
    "for index, answer in enumerate(answers):\n",
    "    together += f\"# Response from competitor {index+1}\\n\\n\"\n",
    "    together += answer + \"\\n\\n\""
   ]
  },
  {
   "cell_type": "code",
   "execution_count": 52,
   "metadata": {},
   "outputs": [
    {
     "name": "stdout",
     "output_type": "stream",
     "text": [
      "# Response from competitor 1\n",
      "\n",
      "Redesigning the education system to effectively prepare future generations for a rapidly changing world requires a multifaceted approach rooted in core principles and methodologies that prioritize critical thinking, adaptability, and inclusivity. Here are some core principles and methodologies, along with strategies to address diverse student needs:\n",
      "\n",
      "### Core Principles\n",
      "\n",
      "1. **Holistic Development**: Education should foster not only academic skills but also emotional, social, and physical development. This would create well-rounded individuals ready to navigate life's complexities.\n",
      "\n",
      "2. **Lifelong Learning**: Cultivate a mindset of continuous learning. Emphasize skills like adaptability, curiosity, and resilience to prepare students for a dynamic job market.\n",
      "\n",
      "3. **Equity and Inclusivity**: Ensure that all students, regardless of socio-economic background or learning ability, have equitable access to resources, opportunities, and support.\n",
      "\n",
      "4. **Real-World Relevance**: Connect learning to real-world problems and experiences. Curriculum should be project-based and thematic, allowing students to engage with issues that matter to them and their communities.\n",
      "\n",
      "5. **Personalization**: Recognize and accommodate individual learning styles and paces. Use technology and adaptive learning platforms to provide personalized pathways for students.\n",
      "\n",
      "### Methodologies\n",
      "\n",
      "1. **Interdisciplinary Learning**: Break down traditional subject silos and design programs that combine disciplines (e.g., science and art) to promote critical thinking and creativity.\n",
      "\n",
      "2. **Project-Based Learning (PBL)**: Encourage students to engage in PBL, where they work on projects that solve real-world problems. This method promotes collaboration, critical thinking, and application of knowledge.\n",
      "\n",
      "3. **Experiential Learning**: Integrate internships, apprenticeships, and service learning into the curriculum to provide hands-on experiences and exposure to different career paths.\n",
      "\n",
      "4. **Technology Integration**: Leverage technology to enhance learning experiences, using tools for collaborative work, access to information, and even virtual and augmented reality for immersive learning experiences.\n",
      "\n",
      "5. **Mindfulness and Social-Emotional Learning (SEL)**: Incorporate SEL programs to teach students about emotional intelligence, empathy, and teamwork, which are essential skills in the modern world.\n",
      "\n",
      "### Addressing Diverse Needs\n",
      "\n",
      "1. **Universal Design for Learning (UDL)**: Implement UDL principles to accommodate all learners by providing multiple means of engagement, representation, and action/expression, ensuring access for diverse learning needs.\n",
      "\n",
      "2. **Community Partnerships**: Collaborate with local businesses, nonprofits, and community organizations to provide resources, mentorship, and real-world learning opportunities, particularly for underserved communities.\n",
      "\n",
      "3. **Flexible Learning Environments**: Create adaptable learning environments that can be tailored to student needs—this includes alternative schooling options such as online education, community-based learning, and evening or weekend programs.\n",
      "\n",
      "4. **Mentorship Programs**: Establish mentorship initiatives pairing students with professionals and community leaders to inspire and guide them through their educational journeys.\n",
      "\n",
      "5. **Culturally Relevant Curriculum**: Design curriculum that reflects and respects the diverse backgrounds of the student population, integrating multiple perspectives and cultural histories.\n",
      "\n",
      "6. **Financial Support and Resources**: Provide financial assistance for low-income families, including subsidized meals, transportation, and textbooks. Enhance access to technology and internet for remote learning.\n",
      "\n",
      "7. **Parental and Community Engagement**: Foster strong partnerships with families and communities to involve them in the educational process, reinforcing the importance of education and supporting student learning at home.\n",
      "\n",
      "By focusing on these principles and methodologies, the redesigned education system can cultivate a generation of learners who are adaptable, empathetic, and equipped to tackle the challenges of a rapidly changing world.\n",
      "\n",
      "# Response from competitor 2\n",
      "\n",
      "Okay, this is a massive thought experiment I’m thrilled to tackle! Redesigning education from the ground up is a complex challenge, but here's a framework based on what I believe are truly crucial for a future-ready generation, emphasizing equity and adaptability:\n",
      "\n",
      "**I. Core Principles – The Foundation:**\n",
      "\n",
      "1. **Learner Agency & Personalized Pathways:** The biggest shift. We move away from a one-size-fits-all model. Students need genuine agency in their learning - choice, voice, and ownership. This doesn't mean complete freedom, but a genuine opportunity to shape their learning journey.\n",
      "2. **Skills-Based Learning over Content-Driven:** While foundational knowledge is important, the focus shifts to *applying* knowledge and developing transferable skills. We prioritize critical thinking, problem-solving, creativity, communication, collaboration, digital literacy, and adaptability.  Content is curated and integrated to support these skills.\n",
      "3. **Interdisciplinary & Project-Based Learning:** Breaking down traditional subject silos. Learning happens through integrated projects that connect different disciplines. Students tackle real-world challenges and see the relevance of what they're learning.\n",
      "4. **Growth Mindset & Resilience:** Cultivating a belief that intelligence and abilities can be developed through effort, learning from mistakes, and perseverance. We need to teach students how to embrace challenges and bounce back from setbacks.\n",
      "5. **Ethical Reasoning & Global Citizenship:** Instilling a strong moral compass, encouraging empathy, and fostering an understanding of global interconnectedness, sustainability, and social justice.\n",
      "\n",
      "\n",
      "**II. Methodologies – How It Works in Practice:**\n",
      "\n",
      "1. **Modular Learning Units:** Instead of textbook-based years, we’d utilize short, focused “modules” that can be completed at a student’s pace. These modules would be built around challenging questions and real-world contexts.\n",
      "2. **Learning Hubs:** Replacing traditional schools with smaller, more flexible “learning hubs.” These hubs would be community-based, integrating elements of traditional schooling with access to experts, mentors, and local resources. \n",
      "3. **Mentorship & Coaching:** Every student would have access to a dedicated mentor/coach who helps them navigate their learning journey, identify their interests, and develop their skills.\n",
      "4. **Digital Literacy & Technology Integration - Responsibly:** Technology is a tool, not the goal. Focus on responsible use, digital creation, data analysis, and understanding the ethical implications of technology.\n",
      "5. **Assessment for Learning:** Moving away from high-stakes standardized tests. Emphasis on formative assessment – ongoing feedback, self-reflection, peer assessment, and portfolios that showcase a student’s skills and knowledge.\n",
      "\n",
      "\n",
      "**III. Addressing Diverse Needs - Equity is Paramount:**\n",
      "\n",
      "This is where the redesign truly becomes transformative.\n",
      "\n",
      "1. **Universal Basic Resources:** Guaranteeing access to essential resources – technology, internet access, learning materials, and support services – for *all* students, regardless of their socioeconomic background. This is the foundation for equitable access.\n",
      "2. **Community-Based Learning:**  Learning hubs would be strategically located within communities, drawing on local expertise, cultural resources, and career opportunities.\n",
      "3. **Personalized Support Systems:** Robust support systems including:\n",
      "    * **Early Intervention:**  Addressing learning gaps and challenges early on.\n",
      "    * **Social-Emotional Support:** Prioritizing mental health and well-being services.\n",
      "    * **Family Engagement:** Creating pathways for meaningful family involvement in the learning process.\n",
      "4. **Tiered Support Programs:** Recognizing that students have different needs. Offering targeted intervention, advanced learning opportunities, and specialized programs based on individual needs.\n",
      "5. **Equitable Resource Allocation:**  Actively addressing systemic inequalities in funding and resources across different schools and districts.\n",
      "\n",
      "**IV. Ongoing Adaptation & Innovation:**\n",
      "\n",
      "* **Continuous Feedback Loops:** Regularly collecting feedback from students, teachers, and community members.\n",
      "* **Research & Development:** Investing in research on effective learning practices and emerging technologies.\n",
      "* **Networked Learning:** Connecting students and educators across the globe to foster collaboration and knowledge sharing.\n",
      "\n",
      "\n",
      "\n",
      "**Important Note:** This isn’t a perfect blueprint, but a starting point. It requires a massive cultural shift – from valuing conformity to embracing diversity, from testing to learning, and from competition to collaboration.  It’s a long-term investment in our future.\n",
      "\n",
      "---\n",
      "\n",
      "Would you like me to delve deeper into any specific aspect of this redesign, such as:\n",
      "\n",
      "*   The role of technology?\n",
      "*   A particular methodology (e.g., Montessori, Waldorf)?\n",
      "*   The funding model?\n",
      "\n",
      "\n"
     ]
    }
   ],
   "source": [
    "print(together)"
   ]
  },
  {
   "cell_type": "code",
   "execution_count": 54,
   "metadata": {},
   "outputs": [],
   "source": [
    "judge = f\"\"\"You are judging a competition between {len(competitors)} competitors.\n",
    "Each model has been given this question:\n",
    "\n",
    "{question}\n",
    "\n",
    "Your job is to evaluate each response for clarity and strength of argument, and rank them in order of best to worst.\n",
    "Respond with JSON, and only JSON, with the following format:\n",
    "{{\"results\": [\"best competitor number\", \"second best competitor number\", \"third best competitor number\", ...]}}\n",
    "\n",
    "Here are the responses from each competitor:\n",
    "\n",
    "{together}\n",
    "\n",
    "Now respond with the JSON with the ranked order of the competitors, nothing else. Do not include markdown formatting or code blocks.\"\"\"\n"
   ]
  },
  {
   "cell_type": "code",
   "execution_count": 55,
   "metadata": {},
   "outputs": [
    {
     "name": "stdout",
     "output_type": "stream",
     "text": [
      "You are judging a competition between 2 competitors.\n",
      "Each model has been given this question:\n",
      "\n",
      "If you could redesign the education system from scratch to better prepare future generations for the complexities of a rapidly changing world, what core principles and methodologies would you prioritize, and how would you address the diverse needs of students across different socio-economic backgrounds?\n",
      "\n",
      "Your job is to evaluate each response for clarity and strength of argument, and rank them in order of best to worst.\n",
      "Respond with JSON, and only JSON, with the following format:\n",
      "{\"results\": [\"best competitor number\", \"second best competitor number\", \"third best competitor number\", ...]}\n",
      "\n",
      "Here are the responses from each competitor:\n",
      "\n",
      "# Response from competitor 1\n",
      "\n",
      "Redesigning the education system to effectively prepare future generations for a rapidly changing world requires a multifaceted approach rooted in core principles and methodologies that prioritize critical thinking, adaptability, and inclusivity. Here are some core principles and methodologies, along with strategies to address diverse student needs:\n",
      "\n",
      "### Core Principles\n",
      "\n",
      "1. **Holistic Development**: Education should foster not only academic skills but also emotional, social, and physical development. This would create well-rounded individuals ready to navigate life's complexities.\n",
      "\n",
      "2. **Lifelong Learning**: Cultivate a mindset of continuous learning. Emphasize skills like adaptability, curiosity, and resilience to prepare students for a dynamic job market.\n",
      "\n",
      "3. **Equity and Inclusivity**: Ensure that all students, regardless of socio-economic background or learning ability, have equitable access to resources, opportunities, and support.\n",
      "\n",
      "4. **Real-World Relevance**: Connect learning to real-world problems and experiences. Curriculum should be project-based and thematic, allowing students to engage with issues that matter to them and their communities.\n",
      "\n",
      "5. **Personalization**: Recognize and accommodate individual learning styles and paces. Use technology and adaptive learning platforms to provide personalized pathways for students.\n",
      "\n",
      "### Methodologies\n",
      "\n",
      "1. **Interdisciplinary Learning**: Break down traditional subject silos and design programs that combine disciplines (e.g., science and art) to promote critical thinking and creativity.\n",
      "\n",
      "2. **Project-Based Learning (PBL)**: Encourage students to engage in PBL, where they work on projects that solve real-world problems. This method promotes collaboration, critical thinking, and application of knowledge.\n",
      "\n",
      "3. **Experiential Learning**: Integrate internships, apprenticeships, and service learning into the curriculum to provide hands-on experiences and exposure to different career paths.\n",
      "\n",
      "4. **Technology Integration**: Leverage technology to enhance learning experiences, using tools for collaborative work, access to information, and even virtual and augmented reality for immersive learning experiences.\n",
      "\n",
      "5. **Mindfulness and Social-Emotional Learning (SEL)**: Incorporate SEL programs to teach students about emotional intelligence, empathy, and teamwork, which are essential skills in the modern world.\n",
      "\n",
      "### Addressing Diverse Needs\n",
      "\n",
      "1. **Universal Design for Learning (UDL)**: Implement UDL principles to accommodate all learners by providing multiple means of engagement, representation, and action/expression, ensuring access for diverse learning needs.\n",
      "\n",
      "2. **Community Partnerships**: Collaborate with local businesses, nonprofits, and community organizations to provide resources, mentorship, and real-world learning opportunities, particularly for underserved communities.\n",
      "\n",
      "3. **Flexible Learning Environments**: Create adaptable learning environments that can be tailored to student needs—this includes alternative schooling options such as online education, community-based learning, and evening or weekend programs.\n",
      "\n",
      "4. **Mentorship Programs**: Establish mentorship initiatives pairing students with professionals and community leaders to inspire and guide them through their educational journeys.\n",
      "\n",
      "5. **Culturally Relevant Curriculum**: Design curriculum that reflects and respects the diverse backgrounds of the student population, integrating multiple perspectives and cultural histories.\n",
      "\n",
      "6. **Financial Support and Resources**: Provide financial assistance for low-income families, including subsidized meals, transportation, and textbooks. Enhance access to technology and internet for remote learning.\n",
      "\n",
      "7. **Parental and Community Engagement**: Foster strong partnerships with families and communities to involve them in the educational process, reinforcing the importance of education and supporting student learning at home.\n",
      "\n",
      "By focusing on these principles and methodologies, the redesigned education system can cultivate a generation of learners who are adaptable, empathetic, and equipped to tackle the challenges of a rapidly changing world.\n",
      "\n",
      "# Response from competitor 2\n",
      "\n",
      "Okay, this is a massive thought experiment I’m thrilled to tackle! Redesigning education from the ground up is a complex challenge, but here's a framework based on what I believe are truly crucial for a future-ready generation, emphasizing equity and adaptability:\n",
      "\n",
      "**I. Core Principles – The Foundation:**\n",
      "\n",
      "1. **Learner Agency & Personalized Pathways:** The biggest shift. We move away from a one-size-fits-all model. Students need genuine agency in their learning - choice, voice, and ownership. This doesn't mean complete freedom, but a genuine opportunity to shape their learning journey.\n",
      "2. **Skills-Based Learning over Content-Driven:** While foundational knowledge is important, the focus shifts to *applying* knowledge and developing transferable skills. We prioritize critical thinking, problem-solving, creativity, communication, collaboration, digital literacy, and adaptability.  Content is curated and integrated to support these skills.\n",
      "3. **Interdisciplinary & Project-Based Learning:** Breaking down traditional subject silos. Learning happens through integrated projects that connect different disciplines. Students tackle real-world challenges and see the relevance of what they're learning.\n",
      "4. **Growth Mindset & Resilience:** Cultivating a belief that intelligence and abilities can be developed through effort, learning from mistakes, and perseverance. We need to teach students how to embrace challenges and bounce back from setbacks.\n",
      "5. **Ethical Reasoning & Global Citizenship:** Instilling a strong moral compass, encouraging empathy, and fostering an understanding of global interconnectedness, sustainability, and social justice.\n",
      "\n",
      "\n",
      "**II. Methodologies – How It Works in Practice:**\n",
      "\n",
      "1. **Modular Learning Units:** Instead of textbook-based years, we’d utilize short, focused “modules” that can be completed at a student’s pace. These modules would be built around challenging questions and real-world contexts.\n",
      "2. **Learning Hubs:** Replacing traditional schools with smaller, more flexible “learning hubs.” These hubs would be community-based, integrating elements of traditional schooling with access to experts, mentors, and local resources. \n",
      "3. **Mentorship & Coaching:** Every student would have access to a dedicated mentor/coach who helps them navigate their learning journey, identify their interests, and develop their skills.\n",
      "4. **Digital Literacy & Technology Integration - Responsibly:** Technology is a tool, not the goal. Focus on responsible use, digital creation, data analysis, and understanding the ethical implications of technology.\n",
      "5. **Assessment for Learning:** Moving away from high-stakes standardized tests. Emphasis on formative assessment – ongoing feedback, self-reflection, peer assessment, and portfolios that showcase a student’s skills and knowledge.\n",
      "\n",
      "\n",
      "**III. Addressing Diverse Needs - Equity is Paramount:**\n",
      "\n",
      "This is where the redesign truly becomes transformative.\n",
      "\n",
      "1. **Universal Basic Resources:** Guaranteeing access to essential resources – technology, internet access, learning materials, and support services – for *all* students, regardless of their socioeconomic background. This is the foundation for equitable access.\n",
      "2. **Community-Based Learning:**  Learning hubs would be strategically located within communities, drawing on local expertise, cultural resources, and career opportunities.\n",
      "3. **Personalized Support Systems:** Robust support systems including:\n",
      "    * **Early Intervention:**  Addressing learning gaps and challenges early on.\n",
      "    * **Social-Emotional Support:** Prioritizing mental health and well-being services.\n",
      "    * **Family Engagement:** Creating pathways for meaningful family involvement in the learning process.\n",
      "4. **Tiered Support Programs:** Recognizing that students have different needs. Offering targeted intervention, advanced learning opportunities, and specialized programs based on individual needs.\n",
      "5. **Equitable Resource Allocation:**  Actively addressing systemic inequalities in funding and resources across different schools and districts.\n",
      "\n",
      "**IV. Ongoing Adaptation & Innovation:**\n",
      "\n",
      "* **Continuous Feedback Loops:** Regularly collecting feedback from students, teachers, and community members.\n",
      "* **Research & Development:** Investing in research on effective learning practices and emerging technologies.\n",
      "* **Networked Learning:** Connecting students and educators across the globe to foster collaboration and knowledge sharing.\n",
      "\n",
      "\n",
      "\n",
      "**Important Note:** This isn’t a perfect blueprint, but a starting point. It requires a massive cultural shift – from valuing conformity to embracing diversity, from testing to learning, and from competition to collaboration.  It’s a long-term investment in our future.\n",
      "\n",
      "---\n",
      "\n",
      "Would you like me to delve deeper into any specific aspect of this redesign, such as:\n",
      "\n",
      "*   The role of technology?\n",
      "*   A particular methodology (e.g., Montessori, Waldorf)?\n",
      "*   The funding model?\n",
      "\n",
      "\n",
      "\n",
      "Now respond with the JSON with the ranked order of the competitors, nothing else. Do not include markdown formatting or code blocks.\n"
     ]
    }
   ],
   "source": [
    "print(judge)"
   ]
  },
  {
   "cell_type": "code",
   "execution_count": 56,
   "metadata": {},
   "outputs": [],
   "source": [
    "judge_messages = [{\"role\": \"user\", \"content\": judge}]"
   ]
  },
  {
   "cell_type": "code",
   "execution_count": 59,
   "metadata": {},
   "outputs": [
    {
     "name": "stdout",
     "output_type": "stream",
     "text": [
      "{\"results\": [\"2\", \"1\"]}\n"
     ]
    }
   ],
   "source": [
    "# Judgement time!\n",
    "\n",
    "openai = OpenAI()\n",
    "response = openai.chat.completions.create(\n",
    "    model=\"o3-mini\",\n",
    "    messages=judge_messages,\n",
    ")\n",
    "results = response.choices[0].message.content\n",
    "print(results)\n"
   ]
  },
  {
   "cell_type": "code",
   "execution_count": 58,
   "metadata": {},
   "outputs": [
    {
     "name": "stdout",
     "output_type": "stream",
     "text": [
      "Rank 1: gemma3:4b\n",
      "Rank 2: gpt-4o-mini\n"
     ]
    }
   ],
   "source": [
    "# OK let's turn this into results!\n",
    "\n",
    "results_dict = json.loads(results)\n",
    "ranks = results_dict[\"results\"]\n",
    "for index, result in enumerate(ranks):\n",
    "    competitor = competitors[int(result)-1]\n",
    "    print(f\"Rank {index+1}: {competitor}\")"
   ]
  },
  {
   "cell_type": "markdown",
   "metadata": {},
   "source": [
    "<table style=\"margin: 0; text-align: left; width:100%\">\n",
    "    <tr>\n",
    "        <td style=\"width: 150px; height: 150px; vertical-align: middle;\">\n",
    "            <img src=\"../assets/exercise.png\" width=\"150\" height=\"150\" style=\"display: block;\" />\n",
    "        </td>\n",
    "        <td>\n",
    "            <h2 style=\"color:#ff7800;\">Exercise</h2>\n",
    "            <span style=\"color:#ff7800;\">Which pattern(s) did this use? Try updating this to add another Agentic design pattern.\n",
    "            </span>\n",
    "        </td>\n",
    "    </tr>\n",
    "</table>"
   ]
  },
  {
   "cell_type": "markdown",
   "metadata": {},
   "source": [
    "Workflow: Parallelization"
   ]
  },
  {
   "cell_type": "markdown",
   "metadata": {},
   "source": [
    "<table style=\"margin: 0; text-align: left; width:100%\">\n",
    "    <tr>\n",
    "        <td style=\"width: 150px; height: 150px; vertical-align: middle;\">\n",
    "            <img src=\"../assets/business.png\" width=\"150\" height=\"150\" style=\"display: block;\" />\n",
    "        </td>\n",
    "        <td>\n",
    "            <h2 style=\"color:#00bfff;\">Commercial implications</h2>\n",
    "            <span style=\"color:#00bfff;\">These kinds of patterns - to send a task to multiple models, and evaluate results,\n",
    "            are common where you need to improve the quality of your LLM response. This approach can be universally applied\n",
    "            to business projects where accuracy is critical.\n",
    "            </span>\n",
    "        </td>\n",
    "    </tr>\n",
    "</table>"
   ]
  }
 ],
 "metadata": {
  "kernelspec": {
   "display_name": ".venv",
   "language": "python",
   "name": "python3"
  },
  "language_info": {
   "codemirror_mode": {
    "name": "ipython",
    "version": 3
   },
   "file_extension": ".py",
   "mimetype": "text/x-python",
   "name": "python",
   "nbconvert_exporter": "python",
   "pygments_lexer": "ipython3",
   "version": "3.12.2"
  }
 },
 "nbformat": 4,
 "nbformat_minor": 2
}
